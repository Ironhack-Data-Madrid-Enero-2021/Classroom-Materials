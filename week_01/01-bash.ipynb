{
 "cells": [
  {
   "cell_type": "markdown",
   "metadata": {},
   "source": [
    "# Bash"
   ]
  },
  {
   "cell_type": "markdown",
   "metadata": {
    "toc": true
   },
   "source": [
    "<h1>Table of Contents<span class=\"tocSkip\"></span></h1>\n",
    "<div class=\"toc\"><ul class=\"toc-item\"><li><span><a href=\"#Intro\" data-toc-modified-id=\"Intro-1\"><span class=\"toc-item-num\">1&nbsp;&nbsp;</span>Intro</a></span></li><li><span><a href=\"#Basic-concepts\" data-toc-modified-id=\"Basic-concepts-2\"><span class=\"toc-item-num\">2&nbsp;&nbsp;</span>Basic concepts</a></span><ul class=\"toc-item\"><li><span><a href=\"#Basic-commands\" data-toc-modified-id=\"Basic-commands-2.1\"><span class=\"toc-item-num\">2.1&nbsp;&nbsp;</span>Basic commands</a></span></li><li><span><a href=\"#Create,-edit,-explore,-play-with-files\" data-toc-modified-id=\"Create,-edit,-explore,-play-with-files-2.2\"><span class=\"toc-item-num\">2.2&nbsp;&nbsp;</span>Create, edit, explore, play with files</a></span></li><li><span><a href=\"#Working-with-Unix\" data-toc-modified-id=\"Working-with-Unix-2.3\"><span class=\"toc-item-num\">2.3&nbsp;&nbsp;</span>Working with Unix</a></span></li><li><span><a href=\"#Alias-creation\" data-toc-modified-id=\"Alias-creation-2.4\"><span class=\"toc-item-num\">2.4&nbsp;&nbsp;</span>Alias creation</a></span></li></ul></li><li><span><a href=\"#Summary\" data-toc-modified-id=\"Summary-3\"><span class=\"toc-item-num\">3&nbsp;&nbsp;</span>Summary</a></span></li><li><span><a href=\"#Further-materials\" data-toc-modified-id=\"Further-materials-4\"><span class=\"toc-item-num\">4&nbsp;&nbsp;</span>Further materials</a></span><ul class=\"toc-item\"><li><span><a href=\"#References\" data-toc-modified-id=\"References-4.1\"><span class=\"toc-item-num\">4.1&nbsp;&nbsp;</span>References</a></span></li><li><span><a href=\"#Exercise\" data-toc-modified-id=\"Exercise-4.2\"><span class=\"toc-item-num\">4.2&nbsp;&nbsp;</span>Exercise</a></span></li></ul></li></ul></div>"
   ]
  },
  {
   "cell_type": "markdown",
   "metadata": {},
   "source": [
    "## Intro"
   ]
  },
  {
   "cell_type": "markdown",
   "metadata": {},
   "source": [
    "**GUI**: Graphical User Interface: interacción usuario-máquina a través de gráficos, iconos, imágenes, textos.  \n",
    "**CLI**: Command Line Interface: interacción usuario-máquina a través de comandos de texto."
   ]
  },
  {
   "cell_type": "markdown",
   "metadata": {},
   "source": [
    "CLIs:\n",
    " * Mac, Linux: UNIX shell  \n",
    " * Windows: Git-Bash"
   ]
  },
  {
   "cell_type": "markdown",
   "metadata": {},
   "source": [
    "*Synonims* of CLI:\n",
    " * shell\n",
    " * console\n",
    " * terminal"
   ]
  },
  {
   "cell_type": "markdown",
   "metadata": {},
   "source": [
    "A terminal is useful for:\n",
    " * SSH connections (Secure Shell): SSH is a cryptographic network protocol for operating network services securely over an unsecured network.  \n",
    " * Create mini custom programs.\n",
    " * Pretend to be a good programmer.\n",
    " * Enjoy administrator permissions (be aware!)"
   ]
  },
  {
   "cell_type": "markdown",
   "metadata": {},
   "source": [
    "## Basic concepts"
   ]
  },
  {
   "cell_type": "markdown",
   "metadata": {},
   "source": [
    "General syntax for commands: `command [options] [arguments]`  \n",
    "Some commands NEED options and/or arguments!"
   ]
  },
  {
   "cell_type": "markdown",
   "metadata": {},
   "source": [
    "Use `<TAB>` key to auto-complete"
   ]
  },
  {
   "cell_type": "markdown",
   "metadata": {},
   "source": [
    "### Basic commands"
   ]
  },
  {
   "cell_type": "markdown",
   "metadata": {},
   "source": [
    "`man`: manual, help"
   ]
  },
  {
   "cell_type": "markdown",
   "metadata": {},
   "source": [
    "`--help` helps too"
   ]
  },
  {
   "cell_type": "markdown",
   "metadata": {},
   "source": [
    "`pwd`: print working directory"
   ]
  },
  {
   "cell_type": "markdown",
   "metadata": {},
   "source": [
    "`clear`: clear terminal"
   ]
  },
  {
   "cell_type": "markdown",
   "metadata": {},
   "source": [
    "`echo`: prints sentence to console"
   ]
  },
  {
   "cell_type": "markdown",
   "metadata": {},
   "source": [
    "`cd`: go to home directory  \n",
    "`cd [argument]`: change directory  \n",
    "`cd ..`: go to parent directory"
   ]
  },
  {
   "cell_type": "markdown",
   "metadata": {},
   "source": [
    "Relative vs absolut path"
   ]
  },
  {
   "cell_type": "markdown",
   "metadata": {},
   "source": [
    "`ls`: list files in directory"
   ]
  },
  {
   "cell_type": "markdown",
   "metadata": {},
   "source": [
    "### Create, edit, explore, play with files"
   ]
  },
  {
   "cell_type": "markdown",
   "metadata": {},
   "source": [
    "`mkdir`: make directory"
   ]
  },
  {
   "cell_type": "markdown",
   "metadata": {},
   "source": [
    "`touch`: create a blank file called \"test_file.txt\""
   ]
  },
  {
   "cell_type": "markdown",
   "metadata": {},
   "source": [
    "`>>`: append to file"
   ]
  },
  {
   "cell_type": "markdown",
   "metadata": {},
   "source": [
    "`>`: insert to file (careful! deletes previous content)"
   ]
  },
  {
   "cell_type": "markdown",
   "metadata": {},
   "source": [
    "`cat`: see file content"
   ]
  },
  {
   "cell_type": "markdown",
   "metadata": {},
   "source": [
    "`head`: see file head content"
   ]
  },
  {
   "cell_type": "markdown",
   "metadata": {},
   "source": [
    "`tail`: see file head content"
   ]
  },
  {
   "cell_type": "markdown",
   "metadata": {},
   "source": [
    "`nano`: edit file content"
   ]
  },
  {
   "cell_type": "markdown",
   "metadata": {},
   "source": [
    "`wc`: lines/words/characters count"
   ]
  },
  {
   "cell_type": "markdown",
   "metadata": {},
   "source": [
    "`mv`: move or rename file"
   ]
  },
  {
   "cell_type": "markdown",
   "metadata": {},
   "source": [
    "`cp`: copy file"
   ]
  },
  {
   "cell_type": "markdown",
   "metadata": {},
   "source": [
    "`rm`: remove file"
   ]
  },
  {
   "cell_type": "markdown",
   "metadata": {},
   "source": [
    "`rm -r`: remove directory"
   ]
  },
  {
   "cell_type": "markdown",
   "metadata": {},
   "source": [
    "### Working with Unix"
   ]
  },
  {
   "cell_type": "markdown",
   "metadata": {},
   "source": [
    "`*`: wildcard"
   ]
  },
  {
   "cell_type": "markdown",
   "metadata": {},
   "source": [
    "`find`: find files"
   ]
  },
  {
   "cell_type": "markdown",
   "metadata": {},
   "source": [
    "`grep`: find in text"
   ]
  },
  {
   "cell_type": "markdown",
   "metadata": {},
   "source": [
    "`|`: compute command on result of other command"
   ]
  },
  {
   "cell_type": "markdown",
   "metadata": {},
   "source": [
    "`age=31`: create variable"
   ]
  },
  {
   "cell_type": "markdown",
   "metadata": {},
   "source": [
    "`$`: access variable"
   ]
  },
  {
   "cell_type": "markdown",
   "metadata": {},
   "source": [
    "`echo \"I am $age years old\"`"
   ]
  },
  {
   "cell_type": "markdown",
   "metadata": {},
   "source": [
    "`history`: show history of commands executed"
   ]
  },
  {
   "cell_type": "markdown",
   "metadata": {},
   "source": [
    "`top` and `htop`: show memory and CPU usage"
   ]
  },
  {
   "cell_type": "markdown",
   "metadata": {},
   "source": [
    "`Ctrl+R` for finding previous commands"
   ]
  },
  {
   "cell_type": "markdown",
   "metadata": {},
   "source": [
    "### Alias creation"
   ]
  },
  {
   "cell_type": "markdown",
   "metadata": {},
   "source": [
    "Alias are shortcut for frequently used commands"
   ]
  },
  {
   "cell_type": "markdown",
   "metadata": {},
   "source": [
    "Linux: open `.bashrc` in your home directory and add an alias command:  \n",
    "`alias iron='cd /home/sheriff/ironhack; source activate ironhack'`  \n",
    "**Terminal must be restarted**"
   ]
  },
  {
   "cell_type": "markdown",
   "metadata": {},
   "source": [
    "## Summary"
   ]
  },
  {
   "cell_type": "markdown",
   "metadata": {},
   "source": [
    " * Bash commands\n",
    " * Relative vs absolut path\n",
    " * We liked `|` tool "
   ]
  },
  {
   "cell_type": "markdown",
   "metadata": {},
   "source": [
    "## Further materials"
   ]
  },
  {
   "cell_type": "markdown",
   "metadata": {},
   "source": [
    "**Documentation**: you may need to find online documentation for some commands not present in this notebook. For example, `sed` command is needed for the LAB."
   ]
  },
  {
   "cell_type": "markdown",
   "metadata": {},
   "source": [
    "### References"
   ]
  },
  {
   "cell_type": "markdown",
   "metadata": {},
   "source": [
    "Extra materials: [The UNIX workbench](https://seankross.com/the-unix-workbench/index.html)"
   ]
  },
  {
   "cell_type": "markdown",
   "metadata": {},
   "source": [
    "### Exercise"
   ]
  },
  {
   "cell_type": "markdown",
   "metadata": {},
   "source": [
    "Define useful aliases for daily usage!\n",
    "\n",
    "**NOTE**: Windows users: you don't have `.bashrc` file, find the analogous way to define an alias\n",
    "\n",
    "**NOTE**: Mac users: you may have `.zshrc` instead of `.bashrc`. Make sure you are able to define a working alias in either of these"
   ]
  }
 ],
 "metadata": {
  "kernelspec": {
   "display_name": "Python 3",
   "language": "python",
   "name": "python3"
  },
  "language_info": {
   "codemirror_mode": {
    "name": "ipython",
    "version": 3
   },
   "file_extension": ".py",
   "mimetype": "text/x-python",
   "name": "python",
   "nbconvert_exporter": "python",
   "pygments_lexer": "ipython3",
   "version": "3.7.9"
  },
  "toc": {
   "base_numbering": 1,
   "nav_menu": {},
   "number_sections": true,
   "sideBar": true,
   "skip_h1_title": true,
   "title_cell": "Table of Contents",
   "title_sidebar": "Contents",
   "toc_cell": true,
   "toc_position": {
    "height": "47.6px",
    "left": "1237px",
    "top": "159.8px",
    "width": "211.989px"
   },
   "toc_section_display": true,
   "toc_window_display": false
  },
  "varInspector": {
   "cols": {
    "lenName": 16,
    "lenType": 16,
    "lenVar": 40
   },
   "kernels_config": {
    "python": {
     "delete_cmd_postfix": "",
     "delete_cmd_prefix": "del ",
     "library": "var_list.py",
     "varRefreshCmd": "print(var_dic_list())"
    },
    "r": {
     "delete_cmd_postfix": ") ",
     "delete_cmd_prefix": "rm(",
     "library": "var_list.r",
     "varRefreshCmd": "cat(var_dic_list()) "
    }
   },
   "types_to_exclude": [
    "module",
    "function",
    "builtin_function_or_method",
    "instance",
    "_Feature"
   ],
   "window_display": false
  }
 },
 "nbformat": 4,
 "nbformat_minor": 4
}
