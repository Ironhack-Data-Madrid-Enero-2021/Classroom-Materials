{
 "cells": [
  {
   "cell_type": "markdown",
   "metadata": {},
   "source": [
    "# Control Flow 2\n"
   ]
  },
  {
   "cell_type": "markdown",
   "metadata": {
    "toc": true
   },
   "source": [
    "<h1>Table of Contents<span class=\"tocSkip\"></span></h1>\n",
    "<div class=\"toc\"><ul class=\"toc-item\"><li><span><a href=\"#The-&quot;if&quot;-statement\" data-toc-modified-id=\"The-&quot;if&quot;-statement-1\"><span class=\"toc-item-num\">1&nbsp;&nbsp;</span>The \"if\" statement</a></span><ul class=\"toc-item\"><li><span><a href=\"#else\" data-toc-modified-id=\"else-1.1\"><span class=\"toc-item-num\">1.1&nbsp;&nbsp;</span>else</a></span></li><li><span><a href=\"#elif\" data-toc-modified-id=\"elif-1.2\"><span class=\"toc-item-num\">1.2&nbsp;&nbsp;</span>elif</a></span></li></ul></li><li><span><a href=\"#Conditional-expressions\" data-toc-modified-id=\"Conditional-expressions-2\"><span class=\"toc-item-num\">2&nbsp;&nbsp;</span>Conditional expressions</a></span></li><li><span><a href=\"#The-&quot;for&quot;-statement\" data-toc-modified-id=\"The-&quot;for&quot;-statement-3\"><span class=\"toc-item-num\">3&nbsp;&nbsp;</span>The \"for\" statement</a></span><ul class=\"toc-item\"><li><span><a href=\"#range()\" data-toc-modified-id=\"range()-3.1\"><span class=\"toc-item-num\">3.1&nbsp;&nbsp;</span>range()</a></span></li><li><span><a href=\"#break\" data-toc-modified-id=\"break-3.2\"><span class=\"toc-item-num\">3.2&nbsp;&nbsp;</span>break</a></span></li><li><span><a href=\"#enumerate()\" data-toc-modified-id=\"enumerate()-3.3\"><span class=\"toc-item-num\">3.3&nbsp;&nbsp;</span>enumerate()</a></span></li><li><span><a href=\"#continue\" data-toc-modified-id=\"continue-3.4\"><span class=\"toc-item-num\">3.4&nbsp;&nbsp;</span>continue</a></span></li></ul></li><li><span><a href=\"#The-&quot;while&quot;-statement\" data-toc-modified-id=\"The-&quot;while&quot;-statement-4\"><span class=\"toc-item-num\">4&nbsp;&nbsp;</span>The \"while\" statement</a></span></li><li><span><a href=\"#Summary\" data-toc-modified-id=\"Summary-5\"><span class=\"toc-item-num\">5&nbsp;&nbsp;</span>Summary</a></span></li><li><span><a href=\"#Further-materials\" data-toc-modified-id=\"Further-materials-6\"><span class=\"toc-item-num\">6&nbsp;&nbsp;</span>Further materials</a></span></li></ul></div>"
   ]
  },
  {
   "cell_type": "markdown",
   "metadata": {},
   "source": [
    "## The \"if\" statement \n",
    "\n",
    "When you want to execute an action only when some condition is `True` you use an \"if\" statement:"
   ]
  },
  {
   "cell_type": "code",
   "execution_count": 6,
   "metadata": {},
   "outputs": [],
   "source": [
    "a = 4"
   ]
  },
  {
   "cell_type": "code",
   "execution_count": 7,
   "metadata": {},
   "outputs": [
    {
     "name": "stdout",
     "output_type": "stream",
     "text": [
      "the condition is satisified\n",
      "hola\n",
      "adios\n"
     ]
    }
   ],
   "source": [
    "if a > 3:\n",
    "    print('the condition is satisified')\n",
    "    print(\"hola\")\n",
    "\n",
    "print(\"adios\")"
   ]
  },
  {
   "cell_type": "code",
   "execution_count": 10,
   "metadata": {},
   "outputs": [
    {
     "name": "stdout",
     "output_type": "stream",
     "text": [
      "Outer condition is true\n",
      "Between inner conditions\n",
      "Inner condition 2\n",
      "End of outer condition\n",
      "After outer condition\n"
     ]
    }
   ],
   "source": [
    "# what lines are executed?\n",
    "if 'foo' in ['foo', 'bar', 'baz']:\n",
    "    print('Outer condition is true')\n",
    "    \n",
    "    if 10 > 20:       \n",
    "        print('Inner condition 1')\n",
    "        \n",
    "    print('Between inner conditions')\n",
    "\n",
    "    if 10 < 20:       \n",
    "        print('Inner condition 2')       \n",
    "\n",
    "    print('End of outer condition')\n",
    "    \n",
    "print('After outer condition')"
   ]
  },
  {
   "cell_type": "code",
   "execution_count": 21,
   "metadata": {},
   "outputs": [],
   "source": [
    "# write a program to check whether a character is a vowel or a consonant"
   ]
  },
  {
   "cell_type": "code",
   "execution_count": 14,
   "metadata": {},
   "outputs": [],
   "source": [
    "vocals = [\"a\", \"e\", \"i\", \"o\", \"u\"]"
   ]
  },
  {
   "cell_type": "code",
   "execution_count": 15,
   "metadata": {},
   "outputs": [],
   "source": [
    "char = \"o\""
   ]
  },
  {
   "cell_type": "code",
   "execution_count": 16,
   "metadata": {},
   "outputs": [
    {
     "name": "stdout",
     "output_type": "stream",
     "text": [
      "es vocal\n"
     ]
    }
   ],
   "source": [
    "if char in vocals:\n",
    "    print(\"es vocal\")\n",
    "else:\n",
    "    print(\"es consonante\")"
   ]
  },
  {
   "cell_type": "markdown",
   "metadata": {},
   "source": [
    "### else\n",
    "Sometimes you want that if the condition is not satisfied (and only then) another action is executed. This is achieved by the `else` statement"
   ]
  },
  {
   "cell_type": "code",
   "execution_count": 23,
   "metadata": {},
   "outputs": [
    {
     "name": "stdout",
     "output_type": "stream",
     "text": [
      "the condition is not satisified\n"
     ]
    }
   ],
   "source": [
    "a = 2\n",
    "\n",
    "if a > 3:\n",
    "    print('the condition is satisified')\n",
    "else:\n",
    "    print('the condition is not satisified')"
   ]
  },
  {
   "cell_type": "markdown",
   "metadata": {},
   "source": [
    "**Exercise**: write a logic that prints whether a name starts with \"a\" or not"
   ]
  },
  {
   "cell_type": "code",
   "execution_count": 37,
   "metadata": {},
   "outputs": [],
   "source": [
    "name = \"aeorgea\""
   ]
  },
  {
   "cell_type": "code",
   "execution_count": 38,
   "metadata": {},
   "outputs": [
    {
     "name": "stdout",
     "output_type": "stream",
     "text": [
      "starts with a or A\n"
     ]
    }
   ],
   "source": [
    "if name[0].lower() == \"a\":\n",
    "    print(\"starts with a or A\")\n",
    "else:\n",
    "    print(\"nope\")"
   ]
  },
  {
   "cell_type": "code",
   "execution_count": 38,
   "metadata": {},
   "outputs": [
    {
     "name": "stdout",
     "output_type": "stream",
     "text": [
      "starts with a or A\n"
     ]
    }
   ],
   "source": [
    "# equivalent\n",
    "if name[0] in [\"a\", \"A\"]:\n",
    "    print(\"starts with a or A\")\n",
    "else:\n",
    "    print(\"nope\")"
   ]
  },
  {
   "cell_type": "markdown",
   "metadata": {},
   "source": [
    "**Exercise**"
   ]
  },
  {
   "cell_type": "markdown",
   "metadata": {},
   "source": [
    "Sometimes there are more than two possibilities. Think of something like:\n",
    " - If Bob is over 18 years old, let him in\n",
    " - Else, if he is above 16, recommend him the light disco nearby\n",
    " - Else, send him home"
   ]
  },
  {
   "cell_type": "code",
   "execution_count": 52,
   "metadata": {},
   "outputs": [
    {
     "name": "stdout",
     "output_type": "stream",
     "text": [
      "inside\n"
     ]
    }
   ],
   "source": [
    "age = 20\n",
    "\n",
    "if age >= 18:\n",
    "    print(\"inside\")  \n",
    "elif age >= 16:\n",
    "    print(\"disco nearby\")\n",
    "else:\n",
    "    print(\"outside\") "
   ]
  },
  {
   "cell_type": "code",
   "execution_count": 52,
   "metadata": {},
   "outputs": [
    {
     "name": "stdout",
     "output_type": "stream",
     "text": [
      "inside\n"
     ]
    }
   ],
   "source": [
    "# equivalent\n",
    "age = 20\n",
    "\n",
    "if age >= 18:\n",
    "    print(\"inside\")  \n",
    "else:\n",
    "    if age >= 16:\n",
    "        print(\"disco nearby\")\n",
    "    else:\n",
    "        print(\"outside\") "
   ]
  },
  {
   "cell_type": "code",
   "execution_count": 56,
   "metadata": {},
   "outputs": [
    {
     "name": "stdout",
     "output_type": "stream",
     "text": [
      "introduce los años de bob: 54\n",
      "<class 'str'>\n",
      "<class 'int'>\n",
      "entra y gaastate la pasta \n"
     ]
    }
   ],
   "source": [
    "bob = input(\"introduce los años de bob: \")\n",
    "# print(type(bob))\n",
    "bob = int(bob)\n",
    "# print(type(bob))\n",
    "\n",
    "if bob >= 18:\n",
    "    print(\"entra y gaastate la pasta \")\n",
    "elif bob >= 16:\n",
    "    print(\"chaval vete a una light\")\n",
    "else:\n",
    "    print(\"chaval pa casa\")"
   ]
  },
  {
   "cell_type": "markdown",
   "metadata": {},
   "source": [
    "### elif"
   ]
  },
  {
   "cell_type": "markdown",
   "metadata": {},
   "source": [
    "We can achieve this with the `elif` clause and chained conditionals:"
   ]
  },
  {
   "cell_type": "code",
   "execution_count": null,
   "metadata": {},
   "outputs": [],
   "source": [
    "age = 17"
   ]
  },
  {
   "cell_type": "code",
   "execution_count": 65,
   "metadata": {},
   "outputs": [
    {
     "name": "stdout",
     "output_type": "stream",
     "text": [
      "the condition 1 is satisified\n"
     ]
    }
   ],
   "source": [
    "if age >= 18:\n",
    "    print('Come in')\n",
    "elif age >= 16\n",
    "    print('Look around for light discos')\n",
    "else:\n",
    "    print('Go home bro')"
   ]
  },
  {
   "cell_type": "markdown",
   "metadata": {},
   "source": [
    "## Conditional expressions"
   ]
  },
  {
   "cell_type": "code",
   "execution_count": 61,
   "metadata": {},
   "outputs": [],
   "source": [
    "country = \"pt\""
   ]
  },
  {
   "cell_type": "code",
   "execution_count": 62,
   "metadata": {},
   "outputs": [],
   "source": [
    "# create variable nationality with the value \"spanish\" or \"other\""
   ]
  },
  {
   "cell_type": "code",
   "execution_count": 63,
   "metadata": {},
   "outputs": [],
   "source": [
    "if country == \"es\":\n",
    "    nationality = \"spanish\"\n",
    "else:\n",
    "    nationality = \"other\""
   ]
  },
  {
   "cell_type": "code",
   "execution_count": null,
   "metadata": {},
   "outputs": [],
   "source": [
    "# equivalent\n",
    "nationality = \"spanish\" if country == \"es\" else \"other\""
   ]
  },
  {
   "cell_type": "markdown",
   "metadata": {},
   "source": [
    "## The \"for\" statement\n",
    "\n",
    "Python’s `for` statement iterates over the items of any sequence (a list, a string, ...), in the order that they appear in the sequence. (from the [docs](https://docs.python.org/3/tutorial/controlflow.html))\n"
   ]
  },
  {
   "cell_type": "code",
   "execution_count": 68,
   "metadata": {},
   "outputs": [
    {
     "name": "stdout",
     "output_type": "stream",
     "text": [
      "cat 3\n",
      "CAT\n",
      "\n",
      "\n",
      "window 6\n",
      "WINDOW\n",
      "\n",
      "\n",
      "defenestrate 12\n",
      "DEFENESTRATE\n",
      "\n",
      "\n",
      "car 3\n",
      "CAR\n",
      "\n",
      "\n",
      "arrow 5\n",
      "ARROW\n",
      "\n",
      "\n"
     ]
    }
   ],
   "source": [
    "# measure some strings:\n",
    "words = ['cat', 'window', 'defenestrate', 'car', 'arrow']\n",
    "\n",
    "for elem in words:\n",
    "    print(elem, len(elem))\n",
    "    print(elem.upper())\n",
    "    print(\"\\n\")"
   ]
  },
  {
   "cell_type": "code",
   "execution_count": 69,
   "metadata": {},
   "outputs": [
    {
     "name": "stdout",
     "output_type": "stream",
     "text": [
      "12 24\n",
      "39 78\n",
      "44 88\n",
      "76 152\n",
      "18 36\n"
     ]
    }
   ],
   "source": [
    "numbers = [12, 39, 44, 76, 18]\n",
    "\n",
    "for n in numbers:\n",
    "    print(n, n * 2)"
   ]
  },
  {
   "cell_type": "code",
   "execution_count": 70,
   "metadata": {},
   "outputs": [
    {
     "name": "stdout",
     "output_type": "stream",
     "text": [
      "12 24\n",
      "44 88\n",
      "76 152\n",
      "18 36\n"
     ]
    }
   ],
   "source": [
    "numbers = [12, 39, 44, 76, 18]\n",
    "\n",
    "for n in numbers:\n",
    "    if n % 2 == 0:\n",
    "        print(n, n * 2)"
   ]
  },
  {
   "cell_type": "markdown",
   "metadata": {},
   "source": [
    "### range()"
   ]
  },
  {
   "cell_type": "markdown",
   "metadata": {},
   "source": [
    "If you do need to iterate over a sequence of numbers, the built-in function `range()` comes in handy. It generates arithmetic progressions:"
   ]
  },
  {
   "cell_type": "code",
   "execution_count": null,
   "metadata": {},
   "outputs": [],
   "source": [
    "range(10)"
   ]
  },
  {
   "cell_type": "code",
   "execution_count": 78,
   "metadata": {},
   "outputs": [
    {
     "data": {
      "text/plain": [
       "range(10, 20, 2)"
      ]
     },
     "execution_count": 78,
     "metadata": {},
     "output_type": "execute_result"
    }
   ],
   "source": [
    "range(10, 20)"
   ]
  },
  {
   "cell_type": "code",
   "execution_count": 79,
   "metadata": {},
   "outputs": [
    {
     "data": {
      "text/plain": [
       "range(10, 20, 2)"
      ]
     },
     "execution_count": 79,
     "metadata": {},
     "output_type": "execute_result"
    }
   ],
   "source": [
    "range(10, 20, 2)"
   ]
  },
  {
   "cell_type": "code",
   "execution_count": 82,
   "metadata": {},
   "outputs": [
    {
     "name": "stdout",
     "output_type": "stream",
     "text": [
      "0\n",
      "1\n",
      "2\n",
      "3\n",
      "4\n"
     ]
    }
   ],
   "source": [
    "for larala in range(5):\n",
    "    print(larala)"
   ]
  },
  {
   "cell_type": "code",
   "execution_count": 80,
   "metadata": {},
   "outputs": [
    {
     "name": "stdout",
     "output_type": "stream",
     "text": [
      "10\n",
      "13\n",
      "16\n",
      "19\n"
     ]
    }
   ],
   "source": [
    "for larala in range(10, 20, 3):\n",
    "    print(larala)"
   ]
  },
  {
   "cell_type": "code",
   "execution_count": 19,
   "metadata": {},
   "outputs": [],
   "source": [
    "# write a program to print numbers below 100 which are multiples of 3 and 5"
   ]
  },
  {
   "cell_type": "code",
   "execution_count": 91,
   "metadata": {},
   "outputs": [
    {
     "name": "stdout",
     "output_type": "stream",
     "text": [
      "0\n",
      "15\n",
      "30\n",
      "45\n",
      "60\n",
      "75\n",
      "90\n"
     ]
    }
   ],
   "source": [
    "for m in range(100):\n",
    "    if (m % 3 == 0) and (m % 5 == 0):\n",
    "        print(m)"
   ]
  },
  {
   "cell_type": "code",
   "execution_count": 92,
   "metadata": {},
   "outputs": [
    {
     "name": "stdout",
     "output_type": "stream",
     "text": [
      "0\n",
      "15\n",
      "30\n",
      "45\n",
      "60\n",
      "75\n",
      "90\n"
     ]
    }
   ],
   "source": [
    "# equiv\n",
    "for m in range(100):\n",
    "    if (m % 3 == 0):\n",
    "        if (m % 5 == 0):\n",
    "            print(m)"
   ]
  },
  {
   "cell_type": "markdown",
   "metadata": {},
   "source": [
    "### break\n",
    "We can literally `break` a recursion when a condition is satisfied"
   ]
  },
  {
   "cell_type": "code",
   "execution_count": 99,
   "metadata": {},
   "outputs": [
    {
     "name": "stdout",
     "output_type": "stream",
     "text": [
      "cat\n",
      "window\n",
      "defenestrate\n",
      "word defenestrate contains an 'e'!!\n"
     ]
    }
   ],
   "source": [
    "words = ['cat', 'window', 'defenestrate', 'car', 'arrow']\n",
    "\n",
    "for w in words:\n",
    "    print(w)\n",
    "    \n",
    "    if \"e\" in w:\n",
    "        print(f\"word {w} contains an 'e'!!\")\n",
    "        break"
   ]
  },
  {
   "cell_type": "markdown",
   "metadata": {},
   "source": [
    "### enumerate()\n",
    "Similarly `enumerate` is widely used:"
   ]
  },
  {
   "cell_type": "code",
   "execution_count": 128,
   "metadata": {},
   "outputs": [
    {
     "name": "stdout",
     "output_type": "stream",
     "text": [
      "0 Alice\n",
      "0\n",
      "AliceAlice\n",
      "\n",
      "\n",
      "1 Bob\n",
      "1\n",
      "BobBob\n",
      "\n",
      "\n",
      "2 Jack\n",
      "2\n",
      "JackJack\n",
      "\n",
      "\n",
      "3 Mary\n",
      "3\n",
      "MaryMary\n",
      "\n",
      "\n",
      "4 Manuel\n",
      "4\n",
      "ManuelManuel\n",
      "\n",
      "\n",
      "5 Amanda\n",
      "5\n",
      "AmandaAmanda\n",
      "\n",
      "\n",
      "6 Ignacio\n",
      "6\n",
      "IgnacioIgnacio\n",
      "\n",
      "\n",
      "7 Fernando\n",
      "7\n",
      "FernandoFernando\n",
      "\n",
      "\n"
     ]
    }
   ],
   "source": [
    "list_of_names = ['Alice', 'Bob', 'Jack', 'Mary', 'Manuel', 'Amanda', 'Ignacio', 'Fernando']\n",
    "\n",
    "for i, name in enumerate(list_of_names):\n",
    "    print(i, name)\n",
    "    print(i)\n",
    "    print(name * 2)\n",
    "    print(\"\\n\")"
   ]
  },
  {
   "cell_type": "markdown",
   "metadata": {},
   "source": [
    "### continue\n",
    "The `continue` statement, continues with the next iteration of the loop, so that everything after it is skipped:\n"
   ]
  },
  {
   "cell_type": "code",
   "execution_count": 130,
   "metadata": {},
   "outputs": [
    {
     "name": "stdout",
     "output_type": "stream",
     "text": [
      "ALICE\n",
      "Alice\n",
      "BOB\n",
      "JACK\n",
      "Jack\n",
      "MARY\n",
      "Mary\n",
      "MANUEL\n",
      "Manuel\n",
      "AMANDA\n",
      "Amanda\n",
      "IGNACIO\n",
      "FERNANDO\n"
     ]
    }
   ],
   "source": [
    "# Program to show the use of continue statement inside loops\n",
    "list_of_names = ['Alice', 'Bob', 'Jack', 'Mary', 'Manuel', 'Amanda', 'Ignacio', 'Fernando']\n",
    "\n",
    "for name in list_of_names:\n",
    "    print(name.upper())\n",
    "    \n",
    "    if \"o\" in name:\n",
    "        continue\n",
    "        # when the condition is satisfied, then continues prevents the print statement\n",
    "        \n",
    "    print(name)"
   ]
  },
  {
   "cell_type": "markdown",
   "metadata": {},
   "source": [
    "## The \"while\" statement\n",
    "\n",
    "Sometimes we want to run a program as far as a condition is satisfied. We can achieve this with the `while` clause.\n",
    "\n",
    "**Note:** Beware of infite recursions!!\n"
   ]
  },
  {
   "cell_type": "code",
   "execution_count": 1,
   "metadata": {},
   "outputs": [],
   "source": [
    "# write a Program that counts the number of rollings of a dice until a 6 appears"
   ]
  },
  {
   "cell_type": "code",
   "execution_count": 22,
   "metadata": {},
   "outputs": [],
   "source": [
    "import time"
   ]
  },
  {
   "cell_type": "code",
   "execution_count": 23,
   "metadata": {},
   "outputs": [
    {
     "name": "stdout",
     "output_type": "stream",
     "text": [
      "hola\n",
      "hola\n",
      "hola\n"
     ]
    },
    {
     "ename": "KeyboardInterrupt",
     "evalue": "",
     "output_type": "error",
     "traceback": [
      "\u001b[0;31m---------------------------------------------------------------------------\u001b[0m",
      "\u001b[0;31mKeyboardInterrupt\u001b[0m                         Traceback (most recent call last)",
      "\u001b[0;32m<ipython-input-23-387a3a4f890d>\u001b[0m in \u001b[0;36m<module>\u001b[0;34m\u001b[0m\n\u001b[1;32m      1\u001b[0m \u001b[0;31m# infinite recursion is fun!!\u001b[0m\u001b[0;34m\u001b[0m\u001b[0;34m\u001b[0m\u001b[0;34m\u001b[0m\u001b[0m\n\u001b[1;32m      2\u001b[0m \u001b[0;32mwhile\u001b[0m \u001b[0;36m3\u001b[0m \u001b[0;34m>\u001b[0m \u001b[0;36m2\u001b[0m\u001b[0;34m:\u001b[0m\u001b[0;34m\u001b[0m\u001b[0;34m\u001b[0m\u001b[0m\n\u001b[0;32m----> 3\u001b[0;31m     \u001b[0mtime\u001b[0m\u001b[0;34m.\u001b[0m\u001b[0msleep\u001b[0m\u001b[0;34m(\u001b[0m\u001b[0;36m1\u001b[0m\u001b[0;34m)\u001b[0m\u001b[0;34m\u001b[0m\u001b[0;34m\u001b[0m\u001b[0m\n\u001b[0m\u001b[1;32m      4\u001b[0m     \u001b[0mprint\u001b[0m\u001b[0;34m(\u001b[0m\u001b[0;34m\"hola\"\u001b[0m\u001b[0;34m)\u001b[0m\u001b[0;34m\u001b[0m\u001b[0;34m\u001b[0m\u001b[0m\n",
      "\u001b[0;31mKeyboardInterrupt\u001b[0m: "
     ]
    }
   ],
   "source": [
    "# infinite recursion is fun!!\n",
    "while 3 > 2:\n",
    "    time.sleep(1)\n",
    "    print(\"hola\")"
   ]
  },
  {
   "cell_type": "code",
   "execution_count": 24,
   "metadata": {},
   "outputs": [],
   "source": [
    "# given a list of ages, print all of them until you find an underaged\n",
    "ages = [40, 52, 19, 21, 22, 31, 15, 88, 34, 25]"
   ]
  },
  {
   "cell_type": "code",
   "execution_count": null,
   "metadata": {},
   "outputs": [],
   "source": [
    "while ...:\n",
    "    ..."
   ]
  },
  {
   "cell_type": "markdown",
   "metadata": {},
   "source": [
    "## Summary "
   ]
  },
  {
   "cell_type": "markdown",
   "metadata": {},
   "source": [
    "Now it is your turn: What have we learnt?"
   ]
  },
  {
   "cell_type": "code",
   "execution_count": null,
   "metadata": {},
   "outputs": [],
   "source": []
  },
  {
   "cell_type": "code",
   "execution_count": null,
   "metadata": {},
   "outputs": [],
   "source": []
  },
  {
   "cell_type": "code",
   "execution_count": null,
   "metadata": {},
   "outputs": [],
   "source": []
  },
  {
   "cell_type": "code",
   "execution_count": null,
   "metadata": {},
   "outputs": [],
   "source": []
  },
  {
   "cell_type": "code",
   "execution_count": null,
   "metadata": {},
   "outputs": [],
   "source": []
  },
  {
   "cell_type": "markdown",
   "metadata": {},
   "source": [
    "* There must be more than one way to accomplish the same taslk ( i.e. `while`or `for`)\n",
    "* `break` and `continue` are pretty cool (and usefull)!\n",
    "* It is ESSENTIAL to understand what you want to do before writting any code\n",
    "* Organize logic statements with parentheses"
   ]
  },
  {
   "cell_type": "markdown",
   "metadata": {},
   "source": [
    "## Further materials\n"
   ]
  },
  {
   "cell_type": "markdown",
   "metadata": {},
   "source": [
    "* [Python docs](https://docs.python.org/3/tutorial/controlflow.html)\n",
    "* Short tutorial on [Python Booleans](https://realpython.com/python-boolean/\n",
    "* Just a nice [talk by Feynman](https://www.youtube.com/watch?v=EKWGGDXe5MA) on the principles of computation"
   ]
  },
  {
   "cell_type": "markdown",
   "metadata": {},
   "source": [
    "* Exercise yourself!:\n",
    "    1. Write a Python program to find the maximum and minimum numbers from a sequence of numbers (do not use built-in functions)\n",
    "    2. Write a Python program that prints all even numbers from 0 to 100"
   ]
  },
  {
   "cell_type": "code",
   "execution_count": 20,
   "metadata": {},
   "outputs": [],
   "source": [
    "# Exercise 1: your code goes here"
   ]
  },
  {
   "cell_type": "code",
   "execution_count": 21,
   "metadata": {},
   "outputs": [],
   "source": [
    "# Exercise 2: your code goes here"
   ]
  }
 ],
 "metadata": {
  "kernelspec": {
   "display_name": "Python 3",
   "language": "python",
   "name": "python3"
  },
  "language_info": {
   "codemirror_mode": {
    "name": "ipython",
    "version": 3
   },
   "file_extension": ".py",
   "mimetype": "text/x-python",
   "name": "python",
   "nbconvert_exporter": "python",
   "pygments_lexer": "ipython3",
   "version": "3.8.5"
  },
  "toc": {
   "base_numbering": 1,
   "nav_menu": {},
   "number_sections": true,
   "sideBar": true,
   "skip_h1_title": true,
   "title_cell": "Table of Contents",
   "title_sidebar": "Contents",
   "toc_cell": true,
   "toc_position": {
    "height": "calc(100% - 180px)",
    "left": "10px",
    "top": "150px",
    "width": "165px"
   },
   "toc_section_display": true,
   "toc_window_display": false
  },
  "varInspector": {
   "cols": {
    "lenName": 16,
    "lenType": 16,
    "lenVar": 40
   },
   "kernels_config": {
    "python": {
     "delete_cmd_postfix": "",
     "delete_cmd_prefix": "del ",
     "library": "var_list.py",
     "varRefreshCmd": "print(var_dic_list())"
    },
    "r": {
     "delete_cmd_postfix": ") ",
     "delete_cmd_prefix": "rm(",
     "library": "var_list.r",
     "varRefreshCmd": "cat(var_dic_list()) "
    }
   },
   "types_to_exclude": [
    "module",
    "function",
    "builtin_function_or_method",
    "instance",
    "_Feature"
   ],
   "window_display": false
  }
 },
 "nbformat": 4,
 "nbformat_minor": 4
}
