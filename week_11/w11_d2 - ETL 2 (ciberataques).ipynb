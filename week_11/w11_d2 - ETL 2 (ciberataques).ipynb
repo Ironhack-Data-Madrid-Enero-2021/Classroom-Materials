{
 "cells": [
  {
   "cell_type": "markdown",
   "metadata": {},
   "source": [
    "# Ciberataques"
   ]
  },
  {
   "cell_type": "markdown",
   "metadata": {},
   "source": [
    "# Ecuaciones de Lotka-Volterra: modelo presa-depredador (idea)\n",
    "\n",
    "Introducción\n",
    "\n",
    "Las ecuaciones de Lotka-Volterra son un modelo biomatemático que pretende responder a estas cuestiones prediciendo la dinámica de las poblaciones de presa y depredador bajo una serie de hipótesis:\n",
    "\n",
    "    El ecosistema está aislado: no hay migración, no hay otras especies presentes, no hay plagas...\n",
    "    \n",
    "    La población de presas en ausencia de depredadores crece de manera exponencial: la velocidad \n",
    "    de reproducción es proporcional al número de individuos. Las presas sólo mueren cuando son cazadas \n",
    "    por el depredador.\n",
    "    \n",
    "    La población de depredadores en ausencia de presas decrece de manera exponencial.\n",
    "    \n",
    "    La población de depredadores afecta a la de presas haciéndola decrecer de forma proporcional al \n",
    "    número de presas y depredadores (esto es como decir de forma proporcional al número de posibles \n",
    "    encuentros entre presa y depredador).\n",
    "    \n",
    "    La población de presas afecta a la de depredadores también de manera proporcional al número \n",
    "    de encuentros, pero con distinta constante de proporcionalidad (dependerá de cuanto sacien su hambre \n",
    "    los depredadores al encontrar una presa).\n",
    "\n",
    "Se trata de un sistema de dos ecuaciones diferenciales de primer orden, acopladas, autónomas y no lineales:\n",
    "\n",
    "\n",
    "\n",
    "![](../images/lotka1.svg)\n",
    "![](../images/lotka2.svg)\n",
    "\n",
    "               \n",
    "               \n",
    "              \n",
    "               \n",
    "\n",
    "donde x es el número de presas (cebras en nuestro caso) e y es el número de depredadores (leones). Los parámetros son constantes positivas que representan:\n",
    "\n",
    "    α : tasa de crecimiento de las presas.\n",
    "    β : éxito en la caza del depredador.\n",
    "    γ : tasa de decrecimiento de los depredadores.\n",
    "    δ : éxito en la caza y cuánto alimenta cazar una presa al depredador.\n",
    "\n",
    "Resolución\n",
    "\n",
    "Resolveremos este sistema usando la función odeint en scipy.integrate.\n"
   ]
  },
  {
   "cell_type": "code",
   "execution_count": null,
   "metadata": {},
   "outputs": [],
   "source": [
    "import numpy as np\n",
    "import matplotlib.pyplot as plt\n",
    "from scipy.integrate import odeint\n",
    "%matplotlib inline\n",
    "\n",
    "import warnings\n",
    "warnings.filterwarnings(\"ignore\")"
   ]
  },
  {
   "cell_type": "markdown",
   "metadata": {},
   "source": [
    "Definimos la función que representará el sistema de ecuaciones en forma canónica para pasárselo a odeint:"
   ]
  },
  {
   "cell_type": "code",
   "execution_count": null,
   "metadata": {},
   "outputs": [],
   "source": [
    "def df_dt(x, t, a, b, c, d):\n",
    "    \n",
    "    dx = a*x[0] - b*x[0]*x[1]\n",
    "    dy = -c*x[1] + d*x[0]*x[1]\n",
    "    \n",
    "    return np.array([dx, dy])"
   ]
  },
  {
   "cell_type": "markdown",
   "metadata": {},
   "source": [
    "Definimos los parámetros de nuestro problema, las condiciones iniciales y el tiempo final de la integración así como el número de pasos."
   ]
  },
  {
   "cell_type": "code",
   "execution_count": null,
   "metadata": {},
   "outputs": [],
   "source": [
    "# Parámetros\n",
    "a = 0.1\n",
    "b = 0.02\n",
    "c = 0.3\n",
    "d = 0.01\n",
    "\n",
    "# Condiciones iniciales\n",
    "x0 = 40\n",
    "y0 = 9\n",
    "conds_iniciales = np.array([x0, y0])\n",
    "\n",
    "# Condiciones para integración\n",
    "tf = 200\n",
    "N = 800\n",
    "t = np.linspace(0, tf, N)"
   ]
  },
  {
   "cell_type": "markdown",
   "metadata": {},
   "source": [
    "Resolvemos la ecuación:"
   ]
  },
  {
   "cell_type": "code",
   "execution_count": null,
   "metadata": {},
   "outputs": [],
   "source": [
    "solucion = odeint(df_dt, conds_iniciales, t, args=(a, b, c, d))"
   ]
  },
  {
   "cell_type": "markdown",
   "metadata": {},
   "source": [
    "y representamos los resultados en función del tiempo:"
   ]
  },
  {
   "cell_type": "code",
   "execution_count": null,
   "metadata": {},
   "outputs": [],
   "source": [
    "plt.figure('Evolución temporal', figsize=(12,9))\n",
    "plt.title('Evolución temporal de la población')\n",
    "plt.plot(t, solucion[:, 0], label='presa')\n",
    "plt.plot(t, solucion[:, 1], label='depredador')\n",
    "plt.xlabel('tiempo')\n",
    "plt.ylabel('población')\n",
    "plt.legend()\n",
    "plt.show;"
   ]
  },
  {
   "cell_type": "markdown",
   "metadata": {},
   "source": [
    "Otra forma interesante de visualizar estos datos es ver el número de presas en función del número de depredadores en lugar de a lo largo del tiempo, es decir, podemos visualizar su mapa de fases:"
   ]
  },
  {
   "cell_type": "code",
   "execution_count": null,
   "metadata": {},
   "outputs": [],
   "source": [
    "plt.figure('Presas vs depredadores', figsize=(12,9))\n",
    "plt.plot(solucion[:, 0], solucion[:, 1])\n",
    "plt.xlabel('presas')\n",
    "plt.ylabel('depredadores')\n",
    "plt.title('Mapa de fases')\n",
    "plt.show();"
   ]
  },
  {
   "cell_type": "markdown",
   "metadata": {},
   "source": [
    "Vemos que se trata de una solución periódica en la que, como decíamos al principio, un aumento en la población de cebras va seguido del aumento del número de leones. Un gran número de depredadores merma la población de presas y a los pobres leones les toca pasar hambre una temporada. Otra forma interesante de visualizar estos datos es ver el número de presas en función del número de depredadores, en lugar de a lo largo del tiempo, es decir, podemos visualizar su mapa de fases. Podemos pintar también el campo de direcciones de nuestras ecuaciones usando la función quiver. El tamaño de las flechas se ha normalizado para que todas tengan la misma longitud y se ha usado un colormap para representar el módulo."
   ]
  },
  {
   "cell_type": "code",
   "execution_count": null,
   "metadata": {},
   "outputs": [],
   "source": [
    "x_max = np.max(solucion[:,0]) * 1.05\n",
    "y_max = np.max(solucion[:,1]) * 1.05\n",
    "\n",
    "x = np.linspace(0, x_max, 25)\n",
    "y = np.linspace(0, y_max, 25)\n",
    "\n",
    "xx, yy = np.meshgrid(x, y)\n",
    "uu, vv = df_dt((xx, yy), 0, a, b, c, d)\n",
    "norm = np.sqrt(uu**2 + vv**2)\n",
    "uu = uu / norm\n",
    "vv = vv / norm\n",
    "\n",
    "plt.figure('Campo vectorial', figsize=(12,9))\n",
    "plt.quiver(xx, yy, uu, vv, norm, cmap=plt.cm.gray)\n",
    "plt.plot(solucion[:, 0], solucion[:, 1])\n",
    "plt.xlim(0, x_max)\n",
    "plt.ylim(0, y_max)\n",
    "plt.xlabel('presas')\n",
    "plt.ylabel('depredadores')\n",
    "plt.title('Campo vectorial')\n",
    "plt.show();"
   ]
  },
  {
   "cell_type": "markdown",
   "metadata": {},
   "source": [
    "\n",
    "# Mejorando el modelo\n",
    "\n",
    "Como se puede observar, este modelo tiene algunas deficiencias propias de su simplicidad y derivadas de las hipótesis bajo las que se ha formulado. Una modificación razonable es cambiar el modelo de crecimiento de las presas en ausencia de depredadores, suponiendo que en vez de aumentar de forma exponencial, lo hacen según una función logística. Esta curva crece de forma similar a una exponencial al principio, moderándose después y estabilizándose asintóticamente en un valor:\n"
   ]
  },
  {
   "cell_type": "code",
   "execution_count": null,
   "metadata": {},
   "outputs": [],
   "source": [
    "def logistic_curve(t, a=1, m=0, n=1, tau=1):\n",
    "    e = np.exp(-t / tau)\n",
    "    return a * (1 + m * e) / (1 + n * e)"
   ]
  },
  {
   "cell_type": "code",
   "execution_count": null,
   "metadata": {},
   "outputs": [],
   "source": [
    "x_ = np.linspace(0,10)\n",
    "plt.figure('Sigmoide', figsize=(10,7))\n",
    "plt.plot(x_, logistic_curve(x_, 1, m=10, n=100, tau=1))\n",
    "plt.title('Sigmoide')\n",
    "plt.show();"
   ]
  },
  {
   "cell_type": "markdown",
   "metadata": {},
   "source": [
    "Podemos observar como esta curva crece de forma similar a una exponencial al principio, moderándose después y estabilizándose asintóticamente en un valor. Este modelo de crecimiento representa mejor las limitaciones en el número de presas debidas al medio (falta de alimento, territorio...). Llevando este modelo de crecimiento a las ecuaciones originales se tiene un nuevo sistema en el que interviene un parámetro más:\n",
    "                                  \n",
    "                                  dx/dt=(αx−rx2)−βxy\n",
    "                                  dy/dt=−γy+δyx"
   ]
  },
  {
   "cell_type": "code",
   "execution_count": null,
   "metadata": {},
   "outputs": [],
   "source": [
    "def df_dt_logistic(x, t, a, b, c, d, r):\n",
    "    \n",
    "    dx = a*x[0] - r*x[0]**2 - b*x[0]*x[1]\n",
    "    dy = - c*x[1] + d*x[0]*x[1]\n",
    "    \n",
    "    return np.array([dx, dy])"
   ]
  },
  {
   "cell_type": "code",
   "execution_count": null,
   "metadata": {},
   "outputs": [],
   "source": [
    "# Parámetros\n",
    "a = 0.1\n",
    "b = 0.02\n",
    "c = 0.3\n",
    "d = 0.01\n",
    "r = 0.001\n",
    "\n",
    "# Condiciones iniciales\n",
    "x0 = 40\n",
    "y0 = 9\n",
    "conds_iniciales = np.array([x0, y0])\n",
    "\n",
    "# Condiciones para integración\n",
    "tf = 200\n",
    "N = 800\n",
    "t = np.linspace(0, tf, N)"
   ]
  },
  {
   "cell_type": "code",
   "execution_count": null,
   "metadata": {},
   "outputs": [],
   "source": [
    "solucion_logistic = odeint(df_dt_logistic, conds_iniciales, t, args=(a, b, c, d, r))"
   ]
  },
  {
   "cell_type": "code",
   "execution_count": null,
   "metadata": {},
   "outputs": [],
   "source": [
    "n_max = np.max(solucion) * 1.10\n",
    "\n",
    "fig, ax = plt.subplots(1,2)\n",
    "\n",
    "fig.set_size_inches(16,7)\n",
    "\n",
    "x_max = np.max(solucion_logistic[:,0]) * 1.05\n",
    "y_max = np.max(solucion_logistic[:,1]) * 1.05\n",
    "\n",
    "x = np.linspace(0, x_max, 25)\n",
    "y = np.linspace(0, y_max, 25)\n",
    "\n",
    "xx, yy = np.meshgrid(x, y)\n",
    "uu, vv = df_dt_logistic((xx, yy), 0, a, b, c, d, r)\n",
    "norm = np.sqrt(uu**2 + vv**2)\n",
    "uu = uu / norm\n",
    "vv = vv / norm\n",
    "\n",
    "ax[0].quiver(xx, yy, uu, vv, norm, cmap=plt.cm.gray)\n",
    "ax[0].plot(solucion_logistic[:, 0], solucion_logistic[:, 1], lw=2, alpha=0.8)\n",
    "ax[0].set_xlim(0, x_max)\n",
    "ax[0].set_ylim(0, y_max)\n",
    "ax[0].set_xlabel('presas')\n",
    "ax[0].set_ylabel('depredadores')\n",
    "\n",
    "ax[1].plot(t, solucion_logistic[:, 0], label='presa')\n",
    "ax[1].plot(t, solucion_logistic[:, 1], label='depredador')\n",
    "ax[1].legend()\n",
    "ax[1].set_xlabel('tiempo')\n",
    "ax[1].set_ylabel('población')\n",
    "plt.show();"
   ]
  },
  {
   "cell_type": "markdown",
   "metadata": {},
   "source": [
    "En este caso se puede observar como el comportamiento deja de ser periódico. El punto crítico que antes era un centro, se convierte en un atractor y la solución tiende a estabilizarse en un número fijo de presas y depredadores."
   ]
  },
  {
   "cell_type": "markdown",
   "metadata": {},
   "source": [
    "# Scraping Data\n",
    "\n",
    "https://threatbutt.com/map/"
   ]
  },
  {
   "cell_type": "code",
   "execution_count": null,
   "metadata": {},
   "outputs": [],
   "source": []
  },
  {
   "cell_type": "markdown",
   "metadata": {},
   "source": [
    "**Primero cargar datos...**"
   ]
  },
  {
   "cell_type": "code",
   "execution_count": null,
   "metadata": {},
   "outputs": [],
   "source": []
  },
  {
   "cell_type": "code",
   "execution_count": null,
   "metadata": {},
   "outputs": [],
   "source": []
  },
  {
   "cell_type": "code",
   "execution_count": null,
   "metadata": {},
   "outputs": [],
   "source": []
  },
  {
   "cell_type": "code",
   "execution_count": null,
   "metadata": {},
   "outputs": [],
   "source": []
  },
  {
   "cell_type": "code",
   "execution_count": null,
   "metadata": {},
   "outputs": [],
   "source": []
  },
  {
   "cell_type": "code",
   "execution_count": null,
   "metadata": {},
   "outputs": [],
   "source": []
  },
  {
   "cell_type": "code",
   "execution_count": null,
   "metadata": {},
   "outputs": [],
   "source": []
  },
  {
   "cell_type": "markdown",
   "metadata": {},
   "source": [
    "**Ahora scrap...**"
   ]
  },
  {
   "cell_type": "code",
   "execution_count": null,
   "metadata": {},
   "outputs": [],
   "source": []
  },
  {
   "cell_type": "raw",
   "metadata": {},
   "source": []
  },
  {
   "cell_type": "code",
   "execution_count": null,
   "metadata": {},
   "outputs": [],
   "source": []
  },
  {
   "cell_type": "code",
   "execution_count": null,
   "metadata": {},
   "outputs": [],
   "source": []
  },
  {
   "cell_type": "code",
   "execution_count": null,
   "metadata": {},
   "outputs": [],
   "source": []
  },
  {
   "cell_type": "markdown",
   "metadata": {},
   "source": [
    "# IP-Geoloc\n",
    "\n",
    "https://tools.keycdn.com/geo"
   ]
  },
  {
   "cell_type": "code",
   "execution_count": null,
   "metadata": {},
   "outputs": [],
   "source": []
  },
  {
   "cell_type": "code",
   "execution_count": null,
   "metadata": {},
   "outputs": [],
   "source": []
  },
  {
   "cell_type": "code",
   "execution_count": null,
   "metadata": {},
   "outputs": [],
   "source": []
  },
  {
   "cell_type": "code",
   "execution_count": null,
   "metadata": {},
   "outputs": [],
   "source": []
  },
  {
   "cell_type": "code",
   "execution_count": null,
   "metadata": {},
   "outputs": [],
   "source": []
  },
  {
   "cell_type": "code",
   "execution_count": null,
   "metadata": {},
   "outputs": [],
   "source": []
  },
  {
   "cell_type": "code",
   "execution_count": null,
   "metadata": {},
   "outputs": [],
   "source": []
  },
  {
   "cell_type": "code",
   "execution_count": null,
   "metadata": {},
   "outputs": [],
   "source": []
  },
  {
   "cell_type": "code",
   "execution_count": null,
   "metadata": {},
   "outputs": [],
   "source": []
  },
  {
   "cell_type": "code",
   "execution_count": null,
   "metadata": {},
   "outputs": [],
   "source": []
  },
  {
   "cell_type": "code",
   "execution_count": null,
   "metadata": {},
   "outputs": [],
   "source": []
  },
  {
   "cell_type": "markdown",
   "metadata": {},
   "source": [
    "**Mapas**"
   ]
  },
  {
   "cell_type": "code",
   "execution_count": null,
   "metadata": {},
   "outputs": [],
   "source": []
  },
  {
   "cell_type": "code",
   "execution_count": null,
   "metadata": {},
   "outputs": [],
   "source": []
  },
  {
   "cell_type": "code",
   "execution_count": null,
   "metadata": {},
   "outputs": [],
   "source": []
  },
  {
   "cell_type": "code",
   "execution_count": null,
   "metadata": {},
   "outputs": [],
   "source": []
  },
  {
   "cell_type": "code",
   "execution_count": null,
   "metadata": {},
   "outputs": [],
   "source": []
  },
  {
   "cell_type": "code",
   "execution_count": null,
   "metadata": {},
   "outputs": [],
   "source": []
  },
  {
   "cell_type": "code",
   "execution_count": null,
   "metadata": {},
   "outputs": [],
   "source": []
  },
  {
   "cell_type": "code",
   "execution_count": null,
   "metadata": {},
   "outputs": [],
   "source": []
  }
 ],
 "metadata": {
  "kernelspec": {
   "display_name": "clase",
   "language": "python",
   "name": "clase"
  },
  "language_info": {
   "codemirror_mode": {
    "name": "ipython",
    "version": 3
   },
   "file_extension": ".py",
   "mimetype": "text/x-python",
   "name": "python",
   "nbconvert_exporter": "python",
   "pygments_lexer": "ipython3",
   "version": "3.7.9"
  }
 },
 "nbformat": 4,
 "nbformat_minor": 2
}
