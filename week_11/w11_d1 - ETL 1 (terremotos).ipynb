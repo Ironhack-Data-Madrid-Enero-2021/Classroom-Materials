{
 "cells": [
  {
   "cell_type": "markdown",
   "metadata": {},
   "source": [
    "# Terremotos en Mexico\n",
    "\n",
    "Proceso ETL:\n",
    "\n",
    "+ Extraccion de datos desde el servicio sismologico nacional de la UNAM: http://www.ssn.unam.mx\n",
    "+ Transformacion necesaria de los datos\n",
    "+ Carga de datos en base de datos y mapa."
   ]
  },
  {
   "cell_type": "code",
   "execution_count": 1,
   "metadata": {},
   "outputs": [],
   "source": [
    "import warnings\n",
    "warnings.simplefilter('ignore')\n",
    "\n",
    "import requests as req\n",
    "import xmltodict\n",
    "import re\n",
    "\n",
    "import pandas as pd"
   ]
  },
  {
   "cell_type": "markdown",
   "metadata": {},
   "source": [
    "**Extraccion**"
   ]
  },
  {
   "cell_type": "code",
   "execution_count": 2,
   "metadata": {},
   "outputs": [],
   "source": [
    "url='http://www.ssn.unam.mx/rss/ultimos-sismos.xml'\n",
    "\n",
    "data=req.get(url).content"
   ]
  },
  {
   "cell_type": "raw",
   "metadata": {},
   "source": [
    "data"
   ]
  },
  {
   "cell_type": "code",
   "execution_count": 12,
   "metadata": {
    "scrolled": false
   },
   "outputs": [
    {
     "data": {
      "text/plain": [
       "OrderedDict([('title', '4.0, 89 km al SUROESTE de  PIJIJIAPAN, CHIS'),\n",
       "             ('description',\n",
       "              '<p>Fecha:2021-03-29 02:05:19 (Hora de M&eacute;xico)<br/>Lat/Lon: 15.1/-93.78<br/>Profundidad: 37.0 km </p>'),\n",
       "             ('link',\n",
       "              'http://www2.ssn.unam.mx:8080/jsp/localizacion-de-sismo.jsp?latitud=15.1&longitud=-93.78&prf=37.0 km&ma=4.0&fecha=2021-03-29&hora=02:05:19&loc=89 km al SUROESTE de  PIJIJIAPAN, CHIS  &evento=1'),\n",
       "             ('geo:lat', '15.1'),\n",
       "             ('geo:long', '-93.78')])"
      ]
     },
     "execution_count": 12,
     "metadata": {},
     "output_type": "execute_result"
    }
   ],
   "source": [
    "xmltodict.parse(data)['rss']['channel']['item'][0]"
   ]
  },
  {
   "cell_type": "code",
   "execution_count": 13,
   "metadata": {},
   "outputs": [
    {
     "data": {
      "text/plain": [
       "15"
      ]
     },
     "execution_count": 13,
     "metadata": {},
     "output_type": "execute_result"
    }
   ],
   "source": [
    "len(xmltodict.parse(data)['rss']['channel']['item'])"
   ]
  },
  {
   "cell_type": "code",
   "execution_count": 15,
   "metadata": {},
   "outputs": [
    {
     "data": {
      "text/plain": [
       "'4.0, 89 km al SUROESTE de  PIJIJIAPAN, CHIS'"
      ]
     },
     "execution_count": 15,
     "metadata": {},
     "output_type": "execute_result"
    }
   ],
   "source": [
    "xmltodict.parse(data)['rss']['channel']['item'][0]['title']"
   ]
  },
  {
   "cell_type": "code",
   "execution_count": 16,
   "metadata": {},
   "outputs": [],
   "source": [
    "def get_data():   # funcion de extraccion de datos\n",
    "    \n",
    "    url='http://www.ssn.unam.mx/rss/ultimos-sismos.xml'  # viene de un RSS\n",
    "    \n",
    "    data=req.get(url).content\n",
    "    \n",
    "    return xmltodict.parse(data)"
   ]
  },
  {
   "cell_type": "markdown",
   "metadata": {},
   "source": [
    "**Transformacion**"
   ]
  },
  {
   "cell_type": "code",
   "execution_count": 36,
   "metadata": {},
   "outputs": [],
   "source": [
    "def get_dictio():\n",
    "    \n",
    "    d=get_data()\n",
    "    \n",
    "    res=[]   # rollo JSON\n",
    "    \n",
    "    lst=d['rss']['channel']['item']   # lista de elementos\n",
    "    \n",
    "    for e in lst:\n",
    "        \n",
    "        link=e['link']\n",
    "        \n",
    "        fecha=re.findall('fecha=\\d+-\\d+-\\d+', link)[0].split('=')[1]\n",
    "        hora=re.findall('hora=\\d+:\\d+:\\d+', link)[0].split('=')[1]\n",
    "        lat=re.findall('latitud=-?\\d+.\\d+', link)[0].split('=')[1]\n",
    "        lng=re.findall('longitud=-?\\d+.\\d+', link)[0].split('=')[1]    \n",
    "        inten=float(re.findall('ma=\\d+.\\d+', link)[0].split('=')[1])\n",
    "        prof=re.findall('prf=\\d+.\\d+', link)[0].split('=')[1] \n",
    "        \n",
    "        data={'Fecha': fecha, \n",
    "              'Hora': hora, \n",
    "              'Latitud': lat, \n",
    "              'Longitud': lng, \n",
    "              'Profundidad': prof, \n",
    "              'Intensidad': inten}\n",
    "        \n",
    "        res.append(data)\n",
    "        \n",
    "    return res"
   ]
  },
  {
   "cell_type": "code",
   "execution_count": 38,
   "metadata": {
    "scrolled": false
   },
   "outputs": [
    {
     "data": {
      "text/plain": [
       "{'Fecha': '2021-03-29',\n",
       " 'Hora': '02:05:19',\n",
       " 'Latitud': '15.1',\n",
       " 'Longitud': '-93.78',\n",
       " 'Profundidad': '37.0',\n",
       " 'Intensidad': 4.0}"
      ]
     },
     "execution_count": 38,
     "metadata": {},
     "output_type": "execute_result"
    }
   ],
   "source": [
    "get_dictio()[0]"
   ]
  },
  {
   "cell_type": "code",
   "execution_count": 39,
   "metadata": {},
   "outputs": [
    {
     "name": "stdout",
     "output_type": "stream",
     "text": [
      "['latitud', '15.1']\n",
      "['longitud', '-93.78']\n",
      "['prf', '37.0 km']\n",
      "['ma', '4.0']\n",
      "['fecha', '2021-03-29']\n",
      "['hora', '02:05:19']\n",
      "['loc', '89 km al SUROESTE de  PIJIJIAPAN, CHIS  ']\n",
      "['evento', '1']\n"
     ]
    }
   ],
   "source": [
    "lst=xmltodict.parse(data)['rss']['channel']['item'][0]['link'].split('?')[1].split('&')\n",
    "\n",
    "for e in lst:\n",
    "    print(e.split('='))"
   ]
  },
  {
   "cell_type": "code",
   "execution_count": 42,
   "metadata": {},
   "outputs": [
    {
     "data": {
      "text/plain": [
       "{'latitud': '15.1',\n",
       " 'longitud': '-93.78',\n",
       " 'prf': '37.0 km',\n",
       " 'ma': '4.0',\n",
       " 'fecha': '2021-03-29',\n",
       " 'hora': '02:05:19',\n",
       " 'loc': '89 km al SUROESTE de  PIJIJIAPAN, CHIS  ',\n",
       " 'evento': '1'}"
      ]
     },
     "execution_count": 42,
     "metadata": {},
     "output_type": "execute_result"
    }
   ],
   "source": [
    "{k:v for k,v in [e.split('=') for e in \\\n",
    "                xmltodict.parse(data)['rss']['channel']['item'][0]['link'].split('?')[1].split('&')]}"
   ]
  },
  {
   "cell_type": "code",
   "execution_count": 43,
   "metadata": {},
   "outputs": [
    {
     "data": {
      "text/plain": [
       "'latitud=15.1&longitud=-93.78&prf=37.0 km&ma=4.0&fecha=2021-03-29&hora=02:05:19&loc=89 km al SUROESTE de  PIJIJIAPAN, CHIS  &evento=1'"
      ]
     },
     "execution_count": 43,
     "metadata": {},
     "output_type": "execute_result"
    }
   ],
   "source": [
    "from urllib.parse import urlparse\n",
    "\n",
    "u=urlparse(xmltodict.parse(data)['rss']['channel']['item'][0]['link'])\n",
    "u.query"
   ]
  },
  {
   "cell_type": "code",
   "execution_count": 44,
   "metadata": {},
   "outputs": [
    {
     "data": {
      "text/plain": [
       "['latitud=15.1',\n",
       " 'longitud=-93.78',\n",
       " 'prf=37.0 km',\n",
       " 'ma=4.0',\n",
       " 'fecha=2021-03-29',\n",
       " 'hora=02:05:19',\n",
       " 'loc=89 km al SUROESTE de  PIJIJIAPAN, CHIS  ',\n",
       " 'evento=1']"
      ]
     },
     "execution_count": 44,
     "metadata": {},
     "output_type": "execute_result"
    }
   ],
   "source": [
    "u.query.split('&')"
   ]
  },
  {
   "cell_type": "code",
   "execution_count": 45,
   "metadata": {},
   "outputs": [
    {
     "data": {
      "text/plain": [
       "{'latitud': '15.1',\n",
       " 'longitud': '-93.78',\n",
       " 'prf': '37.0 km',\n",
       " 'ma': '4.0',\n",
       " 'fecha': '2021-03-29',\n",
       " 'hora': '02:05:19',\n",
       " 'loc': '89 km al SUROESTE de  PIJIJIAPAN, CHIS  ',\n",
       " 'evento': '1'}"
      ]
     },
     "execution_count": 45,
     "metadata": {},
     "output_type": "execute_result"
    }
   ],
   "source": [
    "{k:v for k,v in [e.split('=') for e in u.query.split('&')]}"
   ]
  },
  {
   "cell_type": "markdown",
   "metadata": {},
   "source": [
    "**Carga base datos de postgres**"
   ]
  },
  {
   "cell_type": "code",
   "execution_count": null,
   "metadata": {},
   "outputs": [],
   "source": []
  },
  {
   "cell_type": "code",
   "execution_count": null,
   "metadata": {},
   "outputs": [],
   "source": []
  },
  {
   "cell_type": "code",
   "execution_count": null,
   "metadata": {},
   "outputs": [],
   "source": []
  },
  {
   "cell_type": "code",
   "execution_count": null,
   "metadata": {},
   "outputs": [],
   "source": []
  },
  {
   "cell_type": "code",
   "execution_count": null,
   "metadata": {},
   "outputs": [],
   "source": []
  },
  {
   "cell_type": "code",
   "execution_count": null,
   "metadata": {},
   "outputs": [],
   "source": []
  },
  {
   "cell_type": "code",
   "execution_count": null,
   "metadata": {},
   "outputs": [],
   "source": []
  },
  {
   "cell_type": "code",
   "execution_count": null,
   "metadata": {},
   "outputs": [],
   "source": []
  },
  {
   "cell_type": "code",
   "execution_count": null,
   "metadata": {},
   "outputs": [],
   "source": []
  },
  {
   "cell_type": "code",
   "execution_count": null,
   "metadata": {},
   "outputs": [],
   "source": []
  },
  {
   "cell_type": "code",
   "execution_count": null,
   "metadata": {},
   "outputs": [],
   "source": []
  },
  {
   "cell_type": "code",
   "execution_count": null,
   "metadata": {},
   "outputs": [],
   "source": []
  },
  {
   "cell_type": "markdown",
   "metadata": {},
   "source": [
    "**Mapa (heatmap)**"
   ]
  },
  {
   "cell_type": "code",
   "execution_count": null,
   "metadata": {},
   "outputs": [],
   "source": []
  },
  {
   "cell_type": "code",
   "execution_count": null,
   "metadata": {},
   "outputs": [],
   "source": []
  },
  {
   "cell_type": "code",
   "execution_count": null,
   "metadata": {},
   "outputs": [],
   "source": []
  },
  {
   "cell_type": "code",
   "execution_count": null,
   "metadata": {},
   "outputs": [],
   "source": []
  },
  {
   "cell_type": "code",
   "execution_count": null,
   "metadata": {},
   "outputs": [],
   "source": []
  },
  {
   "cell_type": "markdown",
   "metadata": {},
   "source": [
    "**Heatmap animado**"
   ]
  },
  {
   "cell_type": "code",
   "execution_count": null,
   "metadata": {},
   "outputs": [],
   "source": []
  },
  {
   "cell_type": "code",
   "execution_count": null,
   "metadata": {},
   "outputs": [],
   "source": []
  },
  {
   "cell_type": "code",
   "execution_count": null,
   "metadata": {},
   "outputs": [],
   "source": []
  },
  {
   "cell_type": "code",
   "execution_count": null,
   "metadata": {
    "scrolled": false
   },
   "outputs": [],
   "source": []
  },
  {
   "cell_type": "code",
   "execution_count": null,
   "metadata": {},
   "outputs": [],
   "source": []
  }
 ],
 "metadata": {
  "kernelspec": {
   "display_name": "clase",
   "language": "python",
   "name": "clase"
  },
  "language_info": {
   "codemirror_mode": {
    "name": "ipython",
    "version": 3
   },
   "file_extension": ".py",
   "mimetype": "text/x-python",
   "name": "python",
   "nbconvert_exporter": "python",
   "pygments_lexer": "ipython3",
   "version": "3.7.9"
  }
 },
 "nbformat": 4,
 "nbformat_minor": 2
}
